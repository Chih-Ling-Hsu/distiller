{
 "cells": [
  {
   "cell_type": "markdown",
   "metadata": {},
   "source": [
    "# Auto Compression\n",
    "\n",
    "- [Tutorial](https://github.com/hyperopt/hyperopt/wiki/FMin)"
   ]
  },
  {
   "cell_type": "code",
   "execution_count": 1,
   "metadata": {},
   "outputs": [],
   "source": [
    "from hyperopt import hp\n",
    "from hyperopt import fmin\n",
    "import hyperopt\n",
    "import math\n",
    "import numpy as np\n",
    "import argparse\n",
    "import time\n",
    "import datetime\n",
    "import os\n",
    "import sys\n",
    "import torch\n",
    "import torch.nn as nn\n",
    "import torch.optim\n",
    "from torch.autograd import Variable\n",
    "# script_dir = os.path.dirname(__file__)\n",
    "# module_path = os.path.abspath(os.path.join(script_dir, '..', '..'))\n",
    "# try:\n",
    "#     import distiller\n",
    "# except ImportError:\n",
    "#     sys.path.append(module_path)\n",
    "#     import distiller\n",
    "import distiller\n",
    "import apputils\n",
    "from models import ALL_MODEL_NAMES, create_model"
   ]
  },
  {
   "cell_type": "code",
   "execution_count": 12,
   "metadata": {},
   "outputs": [],
   "source": [
    "def float_range(val_str):\n",
    "    val = float(val_str)\n",
    "    if val < 0 or val >= 1:\n",
    "        raise argparse.ArgumentTypeError('Must be >= 0 and < 1 (received {0})'.format(val_str))\n",
    "    return val\n",
    "\n",
    "def get_space():\n",
    "    space = {}\n",
    "    for name, parameter in model.named_parameters():\n",
    "        if 'conv' in name and 'weight' in name:\n",
    "            space[name] = hp.uniform(name, 0.01, 0.99)\n",
    "    return space"
   ]
  },
  {
   "cell_type": "markdown",
   "metadata": {},
   "source": [
    "## Argument Settings"
   ]
  },
  {
   "cell_type": "code",
   "execution_count": 13,
   "metadata": {},
   "outputs": [],
   "source": [
    "parser = argparse.ArgumentParser(description='Distiller image classification model compression')\n",
    "parser.add_argument('data', metavar='DIR', help='path to dataset')\n",
    "parser.add_argument('--arch', '-a', metavar='ARCH', default='resnet20_cifar',\n",
    "                    choices=ALL_MODEL_NAMES,\n",
    "                    help='model architecture: ' +\n",
    "                    ' | '.join(ALL_MODEL_NAMES) +\n",
    "                    ' (default: resnet20_cifar)')\n",
    "parser.add_argument('-r', '--rounds', default=10, type=int,\n",
    "                    metavar='R', help='max rounds (default: 10)')\n",
    "parser.add_argument('--epochs', default=120, type=int,\n",
    "                    metavar='E', help='epochs (default: 120)')\n",
    "parser.add_argument('-j', '--workers', default=1, type=int, metavar='N',\n",
    "                    help='number of data loading workers (default: 1)')\n",
    "parser.add_argument('-b', '--batch-size', default=128, type=int,\n",
    "                    metavar='N', help='mini-batch size (default: 128)')\n",
    "parser.add_argument('--gpus', metavar='DEV_ID', default=None,\n",
    "                    help='Comma-separated list of GPU device IDs to be used (default is to use all available devices)')\n",
    "parser.add_argument('--lr', '--learning-rate', default=0.01, type=float,\n",
    "                    metavar='LR', help='initial learning rate')\n",
    "parser.add_argument('--momentum', default=0.9, type=float, metavar='M',\n",
    "                    help='momentum')\n",
    "parser.add_argument('--weight-decay', '--wd', default=1e-4, type=float,\n",
    "                    metavar='W', help='weight decay (default: 1e-4)')\n",
    "parser.add_argument('--validation-size', '--vs', type=float_range, default=0.1,\n",
    "                    help='Portion of training dataset to set aside for validation')\n",
    "parser.add_argument('--deterministic', '--det', action='store_true',\n",
    "                    help='Ensure deterministic execution for re-producible results.')\n",
    "\n",
    "# [Manual setting hyperparameters]\n",
    "# If execute in command line, use the following line instead:\n",
    "#    args = parser.parse_args()  \n",
    "args = parser.parse_args(args=[\n",
    "    '/tmp/dataset-nctu',\n",
    "    '-a', 'resnet56_cifar',\n",
    "    '--gpus', '0'\n",
    "])"
   ]
  },
  {
   "cell_type": "markdown",
   "metadata": {},
   "source": [
    "## Data Loading & Model Creation"
   ]
  },
  {
   "cell_type": "code",
   "execution_count": 14,
   "metadata": {},
   "outputs": [
    {
     "name": "stdout",
     "output_type": "stream",
     "text": [
      "Files already downloaded and verified\n",
      "Files already downloaded and verified\n"
     ]
    }
   ],
   "source": [
    "args.dataset = 'cifar10' if 'cifar' in args.arch else 'imagenet'\n",
    "if args.gpus is not None:\n",
    "    try:\n",
    "        args.gpus = [int(s) for s in args.gpus.split(',')]\n",
    "    except ValueError:\n",
    "        exit(1)\n",
    "    available_gpus = torch.cuda.device_count()\n",
    "    for dev_id in args.gpus:\n",
    "        if dev_id >= available_gpus:\n",
    "            exit(1)\n",
    "    # Set default device in case the first one on the list != 0\n",
    "    torch.cuda.set_device(args.gpus[0])\n",
    "\n",
    "model = create_model(False, args.dataset, args.arch, device_ids=args.gpus) # Get arch state_dict\n",
    "train_loader, val_loader, test_loader, _ = apputils.load_data(\n",
    "        args.dataset, os.path.expanduser(args.data), args.batch_size,\n",
    "        args.workers, args.validation_size, args.deterministic)"
   ]
  },
  {
   "cell_type": "markdown",
   "metadata": {},
   "source": [
    "## Functions"
   ]
  },
  {
   "cell_type": "markdown",
   "metadata": {},
   "source": [
    "###  1. Trainning and Validation"
   ]
  },
  {
   "cell_type": "code",
   "execution_count": 15,
   "metadata": {},
   "outputs": [],
   "source": [
    "def train(epoch, criterion, optimizer, compression_scheduler):\n",
    "    correct = 0\n",
    "    total = 0\n",
    "    total_samples = len(train_loader.sampler)\n",
    "    batch_size = train_loader.batch_size\n",
    "    steps_per_epoch = math.ceil(total_samples / batch_size)\n",
    "    for train_step, (inputs, targets) in enumerate(train_loader):\n",
    "        compression_scheduler.on_minibatch_begin(epoch, train_step, steps_per_epoch, optimizer)\n",
    "        inputs, targets = inputs.cuda(), targets.cuda()\n",
    "        outputs = model(inputs.cuda())\n",
    "        _, predicted = torch.max(outputs.data, 1)\n",
    "        total += targets.size(0)\n",
    "        correct += predicted.eq(targets.data).cpu().sum().data.numpy()\n",
    "        loss = criterion(outputs, targets)\n",
    "        compression_scheduler.before_backward_pass(epoch, train_step, steps_per_epoch, loss,\n",
    "                                                   optimizer=optimizer, return_loss_components=True)\n",
    "        optimizer.zero_grad()\n",
    "        loss.backward()\n",
    "        optimizer.step()\n",
    "        compression_scheduler.on_minibatch_end(epoch, train_step, steps_per_epoch, optimizer)\n",
    "    accuracy = 100. * correct / total    \n",
    "    return accuracy"
   ]
  },
  {
   "cell_type": "code",
   "execution_count": 16,
   "metadata": {},
   "outputs": [],
   "source": [
    "def validate():\n",
    "    model.eval() \n",
    "    correct = 0\n",
    "    total = 0\n",
    "    with torch.no_grad():\n",
    "        for test_step, (inputs, targets) in enumerate(val_loader):\n",
    "            inputs, targets = inputs.cuda(), targets.cuda()\n",
    "            outputs = model(inputs)\n",
    "            _, predicted = torch.max(outputs.data, 1)\n",
    "            total += targets.size(0)\n",
    "            correct += predicted.eq(targets.data).cpu().sum().data.numpy()\n",
    "    accuracy = 100. * correct / total    \n",
    "    return accuracy"
   ]
  },
  {
   "cell_type": "markdown",
   "metadata": {},
   "source": [
    "### 2. Testing"
   ]
  },
  {
   "cell_type": "code",
   "execution_count": 17,
   "metadata": {},
   "outputs": [],
   "source": [
    "def test():\n",
    "    model.eval() \n",
    "    correct = 0\n",
    "    total = 0\n",
    "    with torch.no_grad():\n",
    "        for test_step, (inputs, targets) in enumerate(test_loader):\n",
    "            inputs, targets = inputs.cuda(), targets.cuda()\n",
    "            outputs = model(inputs)\n",
    "            _, predicted = torch.max(outputs.data, 1)\n",
    "            total += targets.size(0)\n",
    "            correct += predicted.eq(targets.data).cpu().sum().data.numpy()\n",
    "    accuracy = 100. * correct / total    \n",
    "    return accuracy"
   ]
  },
  {
   "cell_type": "markdown",
   "metadata": {},
   "source": [
    "### 3. Objective Function"
   ]
  },
  {
   "cell_type": "code",
   "execution_count": 18,
   "metadata": {},
   "outputs": [],
   "source": [
    "count = 0\n",
    "def objective(space):\n",
    "    global model\n",
    "    global count\n",
    "    #Explore new model\n",
    "    model = create_model(False, args.dataset, args.arch, device_ids=args.gpus)\n",
    "    count += 1\n",
    "    # Objective function: F(Acc, Lat) = (1 - Acc.) + (alpha * Sparsity)\n",
    "    accuracy = 0\n",
    "    alpha = 0.2 # Super-parameter: the importance of inference time\n",
    "    latency = 0.0\n",
    "    sparsity = 0.0\n",
    "    # Training hyperparameter\n",
    "    criterion = nn.CrossEntropyLoss().cuda()\n",
    "    optimizer = torch.optim.SGD(model.parameters(), lr=args.lr,\n",
    "                                momentum=args.momentum,\n",
    "                                weight_decay=args.weight_decay)\n",
    "    \"\"\"\n",
    "    distiller/distiller/config.py\n",
    "        # Element-wise sparsity\n",
    "        sparsity_levels = {net_param: sparsity_level}\n",
    "        pruner = distiller.pruning.SparsityLevelParameterPruner(name='sensitivity', levels=sparsity_levels)\n",
    "        policy = distiller.PruningPolicy(pruner, pruner_args=None)\n",
    "        scheduler = distiller.CompressionScheduler(model)\n",
    "        scheduler.add_policy(policy, epochs=[0, 2, 4])\n",
    "        # Local search \n",
    "        add multiple pruner for each layer\n",
    "    \"\"\"\n",
    "    sparsity_levels = {}\n",
    "    for key, value in space.items():\n",
    "        sparsity_levels[key] = value\n",
    "    pruner = distiller.pruning.SparsityLevelParameterPruner(name='sensitivity', levels=sparsity_levels)\n",
    "    policy = distiller.PruningPolicy(pruner, pruner_args=None)\n",
    "    lrpolicy = distiller.LRPolicy(torch.optim.lr_scheduler.StepLR(optimizer, step_size=30, gamma=0.1))\n",
    "    compression_scheduler = distiller.CompressionScheduler(model)\n",
    "    compression_scheduler.add_policy(policy, epochs=[90])\n",
    "    compression_scheduler.add_policy(lrpolicy, starting_epoch=0, ending_epoch=90, frequency=1)\n",
    "    \"\"\"\n",
    "    distiller/example/classifier_compression/compress_classifier.py\n",
    "    For each epoch:\n",
    "        compression_scheduler.on_epoch_begin(epoch)\n",
    "        train()\n",
    "        save_checkpoint()\n",
    "        compression_scheduler.on_epoch_end(epoch)\n",
    "\n",
    "    train():\n",
    "        For each training step:\n",
    "            compression_scheduler.on_minibatch_begin(epoch)\n",
    "            output = model(input)\n",
    "            loss = criterion(output, target)\n",
    "            compression_scheduler.before_backward_pass(epoch)\n",
    "            loss.backward()\n",
    "            optimizer.step()\n",
    "            compression_scheduler.on_minibatch_end(epoch)\n",
    "    \"\"\"\n",
    "    for i in range(args.epochs):\n",
    "        compression_scheduler.on_epoch_begin(i)\n",
    "        train_accuracy = train(i,criterion, optimizer, compression_scheduler)\n",
    "        val_accuracy = validate() # Validate hyperparameter setting\n",
    "        t, sparsity = distiller.weights_sparsity_tbl_summary(model, return_total_sparsity=True)\n",
    "        compression_scheduler.on_epoch_end(i, optimizer)\n",
    "        apputils.save_checkpoint(i, args.arch, model, optimizer, compression_scheduler, train_accuracy, False,\n",
    "                                         'hyperopt', './')\n",
    "    test_accuracy = test() # Validate hyperparameter setting\n",
    "    score = (1-(val_accuracy/100.)) + (alpha * (1-sparsity/100.)) # objective funtion here\n",
    "    print('{} trials: score: {:.4f}\\ttrain acc:{:.4f}\\tval acc:{:.4f}\\ttest acc:{:.4f}\\tsparsity:{:.4f}'.format(count, \n",
    "                                      score, \n",
    "                                      train_accuracy, \n",
    "                                      val_accuracy, \n",
    "                                      test_accuracy,\n",
    "                                      sparsity))\n",
    "    return score"
   ]
  },
  {
   "cell_type": "markdown",
   "metadata": {},
   "source": [
    "## A. Algorithm: TPE"
   ]
  },
  {
   "cell_type": "markdown",
   "metadata": {},
   "source": [
    "### 1. No Constraint"
   ]
  },
  {
   "cell_type": "code",
   "execution_count": 19,
   "metadata": {},
   "outputs": [],
   "source": [
    "def main():\n",
    "    space = get_space()\n",
    "    best = fmin(objective, space, algo=hyperopt.tpe.suggest, max_evals=args.rounds)\n",
    "    print(best)"
   ]
  },
  {
   "cell_type": "code",
   "execution_count": 20,
   "metadata": {},
   "outputs": [
    {
     "name": "stdout",
     "output_type": "stream",
     "text": [
      "1 trials: score: 0.2734\ttrain acc:84.8556\tval acc:82.5400\ttest acc:81.9300\tsparsity:50.6034\n",
      "2 trials: score: 0.2712\ttrain acc:84.3733\tval acc:81.7000\ttest acc:81.5400\tsparsity:55.8900\n",
      "3 trials: score: 0.2945\ttrain acc:82.1822\tval acc:79.9400\ttest acc:80.3600\tsparsity:53.0353\n",
      "4 trials: score: 0.2776\ttrain acc:83.3778\tval acc:81.7600\ttest acc:81.4100\tsparsity:52.4167\n",
      "5 trials: score: 0.2688\ttrain acc:87.3289\tval acc:83.7800\ttest acc:84.0000\tsparsity:46.6922\n",
      "6 trials: score: 0.2716\ttrain acc:87.0333\tval acc:83.4400\ttest acc:84.0700\tsparsity:47.0190\n",
      "7 trials: score: 0.2830\ttrain acc:85.8867\tval acc:82.8600\ttest acc:83.1400\tsparsity:44.1788\n",
      "8 trials: score: 0.2770\ttrain acc:86.4289\tval acc:82.9200\ttest acc:83.1200\tsparsity:46.8751\n",
      "9 trials: score: 0.2883\ttrain acc:85.6889\tval acc:82.7200\ttest acc:82.9700\tsparsity:42.2566\n",
      "10 trials: score: 0.2723\ttrain acc:85.5978\tval acc:83.1400\ttest acc:83.1300\tsparsity:48.1252\n",
      "{'module.conv1.weight': 0.31489126241236465, 'module.layer1.0.conv1.weight': 0.43803800336119286, 'module.layer1.0.conv2.weight': 0.19916445486922346, 'module.layer1.1.conv1.weight': 0.6618969546230705, 'module.layer1.1.conv2.weight': 0.7052030219968357, 'module.layer1.2.conv1.weight': 0.6225203900338083, 'module.layer1.2.conv2.weight': 0.1022785774229717, 'module.layer1.3.conv1.weight': 0.9082677036604615, 'module.layer1.3.conv2.weight': 0.4299931472385274, 'module.layer1.4.conv1.weight': 0.4974339877486614, 'module.layer1.4.conv2.weight': 0.8677578974310484, 'module.layer1.5.conv1.weight': 0.40100967577070445, 'module.layer1.5.conv2.weight': 0.16654682587595923, 'module.layer1.6.conv1.weight': 0.43268857063676563, 'module.layer1.6.conv2.weight': 0.44461788304480354, 'module.layer1.7.conv1.weight': 0.3432632125992759, 'module.layer1.7.conv2.weight': 0.8614132291141401, 'module.layer1.8.conv1.weight': 0.13451981591338485, 'module.layer1.8.conv2.weight': 0.21136708620712888, 'module.layer2.0.conv1.weight': 0.8011699807338147, 'module.layer2.0.conv2.weight': 0.08201583814435674, 'module.layer2.1.conv1.weight': 0.8681871685678391, 'module.layer2.1.conv2.weight': 0.5270908900015935, 'module.layer2.2.conv1.weight': 0.26750821532214775, 'module.layer2.2.conv2.weight': 0.8008621876959606, 'module.layer2.3.conv1.weight': 0.22672813476915418, 'module.layer2.3.conv2.weight': 0.6861517895736448, 'module.layer2.4.conv1.weight': 0.6494986559541923, 'module.layer2.4.conv2.weight': 0.6887283059236332, 'module.layer2.5.conv1.weight': 0.8907418496220346, 'module.layer2.5.conv2.weight': 0.5888929403484765, 'module.layer2.6.conv1.weight': 0.1510728993337963, 'module.layer2.6.conv2.weight': 0.6069307025017838, 'module.layer2.7.conv1.weight': 0.19625853145959224, 'module.layer2.7.conv2.weight': 0.5578601032469914, 'module.layer2.8.conv1.weight': 0.9777129232602627, 'module.layer2.8.conv2.weight': 0.7790701954726689, 'module.layer3.0.conv1.weight': 0.3459905325103393, 'module.layer3.0.conv2.weight': 0.08378102178793224, 'module.layer3.1.conv1.weight': 0.5771880253580616, 'module.layer3.1.conv2.weight': 0.8850585733093638, 'module.layer3.2.conv1.weight': 0.45199390958183544, 'module.layer3.2.conv2.weight': 0.1949766052476199, 'module.layer3.3.conv1.weight': 0.477222346726327, 'module.layer3.3.conv2.weight': 0.21588161049155943, 'module.layer3.4.conv1.weight': 0.43938809264514606, 'module.layer3.4.conv2.weight': 0.6440943405135715, 'module.layer3.5.conv1.weight': 0.03729446169248161, 'module.layer3.5.conv2.weight': 0.22279220990135523, 'module.layer3.6.conv1.weight': 0.07222582088401229, 'module.layer3.6.conv2.weight': 0.9799672848212206, 'module.layer3.7.conv1.weight': 0.5447873763533706, 'module.layer3.7.conv2.weight': 0.11811071446840286, 'module.layer3.8.conv1.weight': 0.8755568894336394, 'module.layer3.8.conv2.weight': 0.7757498636213311}\n"
     ]
    }
   ],
   "source": [
    "main()"
   ]
  },
  {
   "cell_type": "markdown",
   "metadata": {},
   "source": [
    "## B. Algorithm: Random Search"
   ]
  },
  {
   "cell_type": "markdown",
   "metadata": {},
   "source": [
    "### 1. No Constraint"
   ]
  },
  {
   "cell_type": "code",
   "execution_count": null,
   "metadata": {},
   "outputs": [],
   "source": [
    "def main():\n",
    "    space = get_space()\n",
    "    best = fmin(objective, space, algo=hyperopt.random.suggest, max_evals=args.rounds)\n",
    "    print(best)"
   ]
  },
  {
   "cell_type": "code",
   "execution_count": null,
   "metadata": {},
   "outputs": [],
   "source": [
    "main()"
   ]
  }
 ],
 "metadata": {
  "kernelspec": {
   "display_name": "Distiller",
   "language": "python",
   "name": "distiller"
  },
  "language_info": {
   "codemirror_mode": {
    "name": "ipython",
    "version": 3
   },
   "file_extension": ".py",
   "mimetype": "text/x-python",
   "name": "python",
   "nbconvert_exporter": "python",
   "pygments_lexer": "ipython3",
   "version": "3.6.6"
  }
 },
 "nbformat": 4,
 "nbformat_minor": 2
}
